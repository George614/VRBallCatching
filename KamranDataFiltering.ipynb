{
 "cells": [
  {
   "cell_type": "markdown",
   "metadata": {},
   "source": [
    "# Goal of this notebook:\n",
    "\n",
    "- Create a visualization for Ball and Gaze on Screen for one trial"
   ]
  },
  {
   "cell_type": "markdown",
   "metadata": {},
   "source": [
    "### Some Acronyms:\n",
    "#### WCS : World Coordinate System\n",
    "#### HCS : Head Coordinate System\n",
    "#### SCS : Screen Coordinate System"
   ]
  },
  {
   "cell_type": "markdown",
   "metadata": {},
   "source": [
    "### Import Packages"
   ]
  },
  {
   "cell_type": "code",
   "execution_count": 1,
   "metadata": {
    "collapsed": true,
    "scrolled": false
   },
   "outputs": [],
   "source": [
    "from __future__ import division\n",
    "\n",
    "import PerformParser as pp\n",
    "import pandas as pd\n",
    "import numpy as np\n",
    "from scipy import signal as sig\n",
    "import performFun as pF\n",
    "\n",
    "#import bokeh.plotting as bkP\n",
    "#import bokeh.models as bkM\n",
    "#from bokeh.palettes import Spectral6\n",
    "#bkP.output_notebook() \n",
    "\n",
    "import cv2\n",
    "import os\n",
    "import scipy.io as sio\n",
    "import matplotlib\n",
    "\n",
    "#%matplotlib notebook\n",
    "#from ipywidgets import interact\n",
    "#import filterpy as fP\n",
    "#from bokeh.io import push_notebook\n",
    "\n",
    "import Quaternion as qu\n",
    "import matplotlib.pyplot as plt\n",
    "from scipy.signal import butter, lfilter, freqz\n",
    "from scipy.fftpack import fft\n",
    "from mpl_toolkits.mplot3d import Axes3D\n",
    "\n",
    "#bkP.output_notebook()\n",
    "\n",
    "#bkP.output_file('timeSeries.html') \n",
    "\n",
    "#%pylab inline\n",
    "#%matplotlib notebook\n"
   ]
  },
  {
   "cell_type": "markdown",
   "metadata": {},
   "source": [
    "### Importing Experiment Data and Creating \"Raw\", \"Calibration\" and \"Processed\" Data Frames"
   ]
  },
  {
   "cell_type": "code",
   "execution_count": 2,
   "metadata": {
    "scrolled": false
   },
   "outputs": [
    {
     "name": "stdout",
     "output_type": "stream",
     "text": [
      "SecDataFrame Called!\n",
      "Creating Secondary Data Frame\n",
      "1\n",
      "DataFrame\n",
      "DataFrame OK!\n",
      "2\n",
      "['IOD', 'IPD', 'ballFinalPos_XYZ', 'ballInitialPos_XYZ', 'ballInitialVel_XYZ', 'ballPos_XYZ', 'ballTTC', 'ballVel_XYZ', 'blankDur', 'blockNumber', 'calibrationCounter', 'calibrationPos_XYZ', 'cycEyeBasePoint_XYZ', 'cycEyeInHead_XYZ', 'cycEyeNodeInWorld_XYZ', 'cycEyeOnScreen_XY', 'cycGazeNodeInWorld_XYZ', 'cycInverseMat_4x4', 'cycMat_4x4', 'eventFlag', 'eyeTimeStamp', 'frameTime', 'inCalibrationQ', 'isBallVisibleQ', 'isCalibratedSMIQ', 'leftEyeBasePoint_XYZ', 'leftEyeInHead_XYZ', 'leftEyeInverseMat_4x4', 'leftEyeLensDistance', 'leftEyeMat_4x4', 'leftEyeNodeInHead_XYZ', 'leftEyeNodeInWorld_XYZ', 'leftEyeOnScreen_XY', 'leftEyeScreenDistance', 'leftGazeNodeInWorld_XYZ', 'leftPupilPos_XYZ', 'leftPupilRadius', 'paddleMat_4x4', 'paddlePos_XYZ', 'paddleQuat_XYZW', 'postBlankDur', 'preBlankDur', 'rightEyeBasePoint_XYZ', 'rightEyeInHead_XYZ', 'rightEyeInverseMat_4x4', 'rightEyeLensDistance', 'rightEyeMat_4x4', 'rightEyeNodeInHead_XYZ', 'rightEyeNodeInWorld_XYZ', 'rightEyeOnScreen_XY', 'rightEyeScreenDistance', 'rightGazeNodeInWorld_XYZ', 'rightPupilPos_XYZ', 'rightPupilRadius', 'trialNumber', 'trialType', 'viewMat_4x4', 'viewPos_XYZ', 'viewQuat_XYZW']\n",
      "Loading experiment config file: ../Data/2016-5-3-12-52/gd_pilot.cfg\n",
      "Experiment config file parsed correctly\n",
      "Loading system config file: ../Data/2016-5-3-12-52/PERFORMLAB1.cfg\n",
      "System config file validation failed!\n",
      "(u'displays', ' = ', VdtTypeError(u'the value \"list(1\" is of the wrong type.',))\n",
      "trial info data frame created!\n",
      "Hacked the Paddle Calculation (Kamran)\n",
      "\n",
      "Secondary Data Frame Created!\n",
      "\n"
     ]
    }
   ],
   "source": [
    "\n",
    "\n",
    "# List of subjects with good calibration quality\n",
    "fileTimeList = ['2016-4-19-14-4', '2016-4-22-11-57', '2016-4-27-13-28', '2016-4-28-10-57', '2016-4-29-11-56',\n",
    "                '2016-5-3-12-52', '2016-5-4-13-3', '2016-5-5-13-7', '2016-5-6-11-2', '2016-5-6-13-4']\n",
    "\n",
    "fileTime = '2018-4-25-17-48'\n",
    "fileTime = '2018-6-13-16-27'\n",
    "fileTime = '2018-7-17-18-59'\n",
    "fileTime = '2018-7-18-18-53'\n",
    "fileTime = '2018-8-6-19-24'\n",
    "fileTime = '2018-8-9-11-15'\n",
    "fileTime = '2018-8-9-21-46'\n",
    "fileTime = '2018-8-14-10-49'\n",
    "fileTime = '2018-8-14-12-20'\n",
    "fileTime = '2018-8-16-16-35'\n",
    "fileTime = '2018-8-17-13-24'\n",
    "fileTime = '2018-8-22-16-31'\n",
    "fileTime = '2018-8-28-12-22'\n",
    "fileTime = '2018-8-29-12-11'\n",
    "fileTime = '2018-8-30-9-34'\n",
    "fileTime = '2018-8-30-12-5'\n",
    "fileTime = '2018-8-30-13-42'\n",
    "fileTime = '2018-8-30-15-1'\n",
    "fileTime = '2018-8-30-15-57'\n",
    "fileTime = '2018-8-31-13-32'\n",
    "fileTime = '2018-8-31-15-14'\n",
    "fileTime = '2018-8-31-16-42'\n",
    "fileTime = '2018-9-1-11-27'\n",
    "fileTime = '2018-9-4-10-58'\n",
    "fileTime = '2018-9-4-15-12'\n",
    "fileTime = '2018-9-5-15-4'\n",
    "fileTime = '2018-9-5-16-39'\n",
    "fileTime = '2018-9-6-12-15'\n",
    "fileTime = '2018-9-6-13-51'\n",
    "fileTime = '2018-9-7-12-10'\n",
    "#fileTime = '2016-12-2-19-22' # Evan's Data\n",
    "#fileTime = '2016-4-19-14-4'\n",
    "#fileTime = '2016-4-22-11-57'\n",
    "#fileTime = '2016-4-27-13-28' # Moderate Gaze Errors\n",
    "#fileTime = '2016-4-28-10-57' # Moderate Gaze Errors\n",
    "#fileTime = '2016-4-29-11-56' # Good Gaze Errors\n",
    "fileTime = '2016-5-3-12-52' # Very clean data Low gaze errors\n",
    "#fileTime = '2016-5-4-13-3' # Good Gaze Errors\n",
    "#fileTime = '2016-5-5-13-7'\n",
    "#fileTime = '2016-5-6-11-2' # High Gaze Errors\n",
    "#fileTime = '2016-5-6-13-4' # Good Gaze Errors\n",
    "\n",
    "expCfgName = \"gd_pilot.cfg\"\n",
    "sysCfgName = \"PERFORMLAB1.cfg\"\n",
    "\n",
    "filePath = \"../Data/\" + fileTime + \"/\"\n",
    "fileName = \"exp_data-\" + fileTime\n",
    "\n",
    "sessionDict = pF.loadSessionDict(filePath,fileName,expCfgName,sysCfgName,startFresh=False)\n",
    "\n",
    "rawDataFrame = sessionDict['raw']\n",
    "processedDataFrame = sessionDict['processed']\n",
    "calibDataFrame = sessionDict['calibration']\n",
    "trialInfoDataFrame = sessionDict['trialInfo']"
   ]
  },
  {
   "cell_type": "code",
   "execution_count": 3,
   "metadata": {
    "collapsed": true,
    "scrolled": true
   },
   "outputs": [],
   "source": [
    "#rawDataFrame.loc[:,[('frameTime',''),('eventFlag','')]]"
   ]
  },
  {
   "cell_type": "code",
   "execution_count": 6,
   "metadata": {},
   "outputs": [
    {
     "data": {
      "text/html": [
       "<div style=\"max-height:1000px;max-width:1500px;overflow:auto;\">\n",
       "<table border=\"1\" class=\"dataframe\">\n",
       "  <thead>\n",
       "    <tr>\n",
       "      <th></th>\n",
       "      <th>IOD</th>\n",
       "      <th>IPD</th>\n",
       "      <th colspan=\"3\" halign=\"left\">ballFinalPos</th>\n",
       "      <th colspan=\"3\" halign=\"left\">ballInitialPos</th>\n",
       "      <th colspan=\"3\" halign=\"left\">ballInitialVel</th>\n",
       "      <th colspan=\"3\" halign=\"left\">ballPos</th>\n",
       "      <th>ballTTC</th>\n",
       "      <th colspan=\"3\" halign=\"left\">ballVel</th>\n",
       "      <th>blankDur</th>\n",
       "      <th>blockNumber</th>\n",
       "      <th></th>\n",
       "    </tr>\n",
       "    <tr>\n",
       "      <th></th>\n",
       "      <th></th>\n",
       "      <th></th>\n",
       "      <th>X</th>\n",
       "      <th>Y</th>\n",
       "      <th>Z</th>\n",
       "      <th>X</th>\n",
       "      <th>Y</th>\n",
       "      <th>Z</th>\n",
       "      <th>X</th>\n",
       "      <th>Y</th>\n",
       "      <th>Z</th>\n",
       "      <th>X</th>\n",
       "      <th>Y</th>\n",
       "      <th>Z</th>\n",
       "      <th></th>\n",
       "      <th>X</th>\n",
       "      <th>Y</th>\n",
       "      <th>Z</th>\n",
       "      <th></th>\n",
       "      <th></th>\n",
       "      <th></th>\n",
       "    </tr>\n",
       "  </thead>\n",
       "  <tbody>\n",
       "    <tr>\n",
       "      <th>0</th>\n",
       "      <td> 60.3639</td>\n",
       "      <td> 61.8813</td>\n",
       "      <td> 0</td>\n",
       "      <td> 0</td>\n",
       "      <td> 0</td>\n",
       "      <td> 0</td>\n",
       "      <td> 0</td>\n",
       "      <td> 0</td>\n",
       "      <td> 0</td>\n",
       "      <td> 0</td>\n",
       "      <td> 0</td>\n",
       "      <td> NaN</td>\n",
       "      <td> NaN</td>\n",
       "      <td> NaN</td>\n",
       "      <td> 1.6</td>\n",
       "      <td> NaN</td>\n",
       "      <td> NaN</td>\n",
       "      <td> NaN</td>\n",
       "      <td> 0.5</td>\n",
       "      <td> 0</td>\n",
       "      <td>...</td>\n",
       "    </tr>\n",
       "    <tr>\n",
       "      <th>1</th>\n",
       "      <td> 60.3639</td>\n",
       "      <td> 61.8813</td>\n",
       "      <td> 0</td>\n",
       "      <td> 0</td>\n",
       "      <td> 0</td>\n",
       "      <td> 0</td>\n",
       "      <td> 0</td>\n",
       "      <td> 0</td>\n",
       "      <td> 0</td>\n",
       "      <td> 0</td>\n",
       "      <td> 0</td>\n",
       "      <td> NaN</td>\n",
       "      <td> NaN</td>\n",
       "      <td> NaN</td>\n",
       "      <td> 1.6</td>\n",
       "      <td> NaN</td>\n",
       "      <td> NaN</td>\n",
       "      <td> NaN</td>\n",
       "      <td> 0.5</td>\n",
       "      <td> 0</td>\n",
       "      <td>...</td>\n",
       "    </tr>\n",
       "    <tr>\n",
       "      <th>2</th>\n",
       "      <td> 60.3656</td>\n",
       "      <td> 61.9375</td>\n",
       "      <td> 0</td>\n",
       "      <td> 0</td>\n",
       "      <td> 0</td>\n",
       "      <td> 0</td>\n",
       "      <td> 0</td>\n",
       "      <td> 0</td>\n",
       "      <td> 0</td>\n",
       "      <td> 0</td>\n",
       "      <td> 0</td>\n",
       "      <td> NaN</td>\n",
       "      <td> NaN</td>\n",
       "      <td> NaN</td>\n",
       "      <td> 1.6</td>\n",
       "      <td> NaN</td>\n",
       "      <td> NaN</td>\n",
       "      <td> NaN</td>\n",
       "      <td> 0.5</td>\n",
       "      <td> 0</td>\n",
       "      <td>...</td>\n",
       "    </tr>\n",
       "    <tr>\n",
       "      <th>3</th>\n",
       "      <td> 60.3677</td>\n",
       "      <td> 61.8514</td>\n",
       "      <td> 0</td>\n",
       "      <td> 0</td>\n",
       "      <td> 0</td>\n",
       "      <td> 0</td>\n",
       "      <td> 0</td>\n",
       "      <td> 0</td>\n",
       "      <td> 0</td>\n",
       "      <td> 0</td>\n",
       "      <td> 0</td>\n",
       "      <td> NaN</td>\n",
       "      <td> NaN</td>\n",
       "      <td> NaN</td>\n",
       "      <td> 1.6</td>\n",
       "      <td> NaN</td>\n",
       "      <td> NaN</td>\n",
       "      <td> NaN</td>\n",
       "      <td> 0.5</td>\n",
       "      <td> 0</td>\n",
       "      <td>...</td>\n",
       "    </tr>\n",
       "    <tr>\n",
       "      <th>4</th>\n",
       "      <td> 60.3703</td>\n",
       "      <td> 61.8784</td>\n",
       "      <td> 0</td>\n",
       "      <td> 0</td>\n",
       "      <td> 0</td>\n",
       "      <td> 0</td>\n",
       "      <td> 0</td>\n",
       "      <td> 0</td>\n",
       "      <td> 0</td>\n",
       "      <td> 0</td>\n",
       "      <td> 0</td>\n",
       "      <td> NaN</td>\n",
       "      <td> NaN</td>\n",
       "      <td> NaN</td>\n",
       "      <td> 1.6</td>\n",
       "      <td> NaN</td>\n",
       "      <td> NaN</td>\n",
       "      <td> NaN</td>\n",
       "      <td> 0.5</td>\n",
       "      <td> 0</td>\n",
       "      <td>...</td>\n",
       "    </tr>\n",
       "  </tbody>\n",
       "</table>\n",
       "<p>5 rows × 236 columns</p>\n",
       "</div>"
      ],
      "text/plain": [
       "       IOD      IPD ballFinalPos       ballInitialPos       ballInitialVel     \\\n",
       "                               X  Y  Z              X  Y  Z              X  Y   \n",
       "0  60.3639  61.8813            0  0  0              0  0  0              0  0   \n",
       "1  60.3639  61.8813            0  0  0              0  0  0              0  0   \n",
       "2  60.3656  61.9375            0  0  0              0  0  0              0  0   \n",
       "3  60.3677  61.8514            0  0  0              0  0  0              0  0   \n",
       "4  60.3703  61.8784            0  0  0              0  0  0              0  0   \n",
       "\n",
       "     ballPos           ballTTC ballVel           blankDur blockNumber      \n",
       "   Z       X    Y    Z               X    Y    Z                           \n",
       "0  0     NaN  NaN  NaN     1.6     NaN  NaN  NaN      0.5           0 ...  \n",
       "1  0     NaN  NaN  NaN     1.6     NaN  NaN  NaN      0.5           0 ...  \n",
       "2  0     NaN  NaN  NaN     1.6     NaN  NaN  NaN      0.5           0 ...  \n",
       "3  0     NaN  NaN  NaN     1.6     NaN  NaN  NaN      0.5           0 ...  \n",
       "4  0     NaN  NaN  NaN     1.6     NaN  NaN  NaN      0.5           0 ...  \n",
       "\n",
       "[5 rows x 236 columns]"
      ]
     },
     "execution_count": 6,
     "metadata": {},
     "output_type": "execute_result"
    }
   ],
   "source": [
    "calibDataFrame.head(5)"
   ]
  },
  {
   "cell_type": "code",
   "execution_count": 5,
   "metadata": {},
   "outputs": [
    {
     "data": {
      "text/html": [
       "<div style=\"max-height:1000px;max-width:1500px;overflow:auto;\">\n",
       "<table border=\"1\" class=\"dataframe\">\n",
       "  <thead>\n",
       "    <tr>\n",
       "      <th></th>\n",
       "      <th>frameTime</th>\n",
       "      <th>eventFlag</th>\n",
       "      <th>trialNumber</th>\n",
       "    </tr>\n",
       "    <tr>\n",
       "      <th></th>\n",
       "      <th></th>\n",
       "      <th></th>\n",
       "      <th></th>\n",
       "    </tr>\n",
       "  </thead>\n",
       "  <tbody>\n",
       "    <tr>\n",
       "      <th>0</th>\n",
       "      <td> 632.4261</td>\n",
       "      <td> trialStart</td>\n",
       "      <td> 0</td>\n",
       "    </tr>\n",
       "    <tr>\n",
       "      <th>1</th>\n",
       "      <td> 632.4395</td>\n",
       "      <td>      False</td>\n",
       "      <td> 0</td>\n",
       "    </tr>\n",
       "    <tr>\n",
       "      <th>2</th>\n",
       "      <td> 632.4527</td>\n",
       "      <td>      False</td>\n",
       "      <td> 0</td>\n",
       "    </tr>\n",
       "    <tr>\n",
       "      <th>3</th>\n",
       "      <td> 632.4661</td>\n",
       "      <td>      False</td>\n",
       "      <td> 0</td>\n",
       "    </tr>\n",
       "    <tr>\n",
       "      <th>4</th>\n",
       "      <td> 632.4794</td>\n",
       "      <td>      False</td>\n",
       "      <td> 0</td>\n",
       "    </tr>\n",
       "  </tbody>\n",
       "</table>\n",
       "<p>5 rows × 3 columns</p>\n",
       "</div>"
      ],
      "text/plain": [
       "  frameTime   eventFlag trialNumber\n",
       "                                   \n",
       "0  632.4261  trialStart           0\n",
       "1  632.4395       False           0\n",
       "2  632.4527       False           0\n",
       "3  632.4661       False           0\n",
       "4  632.4794       False           0\n",
       "\n",
       "[5 rows x 3 columns]"
      ]
     },
     "execution_count": 5,
     "metadata": {},
     "output_type": "execute_result"
    }
   ],
   "source": [
    "processedDataFrame.head(5)"
   ]
  },
  {
   "cell_type": "code",
   "execution_count": 6,
   "metadata": {},
   "outputs": [
    {
     "name": "stdout",
     "output_type": "stream",
     "text": [
      "\n",
      "Low Pass/Median Filtering Gaze Data...\n",
      "... Done!\n",
      "\n",
      "Calculating Cyc Gaze Velocity...\n",
      "... Done!\n",
      "\n",
      "Calculating True POR on Screen...\n",
      "('Size of Calibration Data Frame is', 5900)\n",
      "('Size of TruePOR array:', (5900, 3))\n"
     ]
    },
    {
     "name": "stderr",
     "output_type": "stream",
     "text": [
      "/Users/kamranbinaee/anaconda/envs/ipykernel_py2/lib/python2.7/site-packages/pandas/core/indexing.py:344: SettingWithCopyWarning: A value is trying to be set on a copy of a slice from a DataFrame.\n",
      "Try using .loc[row_index,col_indexer] = value instead\n",
      "  self.obj[item] = s\n"
     ]
    },
    {
     "name": "stdout",
     "output_type": "stream",
     "text": [
      "\n",
      "Calculating True POR on Screen...\n",
      "\n",
      "Calculating Calibration Homography...\n",
      "('Frame Range =[', 0, ' ', 2699, ']')\n",
      "(2700, 2)\n",
      "('MSE_after = ', [2022.6865882563034])\n",
      "('MSE_before = ', [6914.9999150921385])\n",
      "(1000, 1026)\n",
      "('H = ', array([[  9.03961675e-01,  -5.95915186e-02,   1.06596999e-04],\n",
      "       [  3.27034596e-02,   1.88746781e+00,   2.73963745e-03],\n",
      "       [  2.22822889e+00,   7.12301694e+00,   1.00000000e+00]]))\n",
      "... Done!\n",
      "\n",
      "Calculating Gaze & Ball On Screen...\n",
      "... Done!\n",
      "\n",
      "Calculating Gaze Error EIH ...\n",
      "... Done!\n",
      "\n",
      "Calculating Gaze Error GIW ...\n",
      "... Done!\n",
      "\n",
      "Calculating Ball and Head Velocity ...\n",
      ".... Done!\n",
      "\n",
      "Calculating Event Indexes ...\n",
      "... Done!\n"
     ]
    }
   ],
   "source": [
    "sessionDict = pF.rawDataProcessing(sessionDict)"
   ]
  },
  {
   "cell_type": "code",
   "execution_count": 7,
   "metadata": {},
   "outputs": [
    {
     "name": "stdout",
     "output_type": "stream",
     "text": [
      "['ballCaughtFr', 'ballCaughtQ', 'blankDur', 'postBlankDur', 'preBlankDur', 'firstFrame', 'lastFrame', 'trialStartIdx', 'ballOffIdx', 'ballOnIdx', 'ballCrossingIndex']\n"
     ]
    }
   ],
   "source": [
    "print (list(sessionDict['trialInfo'].columns))\n",
    "(sessionDict['processed'], sessionDict['trialInfo']) = pF.calculateCrossingFrame(sessionDict['raw'], sessionDict['processed'], sessionDict['trialInfo'])\n",
    "rawDataFrame = sessionDict['raw']\n",
    "processedDataFrame = sessionDict['processed']\n",
    "calibDataFrame = sessionDict['calibration']\n",
    "trialInfoDataFrame = sessionDict['trialInfo']\n",
    "\n",
    "rawDataFrame.loc[:,('SubjectID', '')] = fileTime\n",
    "processedDataFrame.loc[:,('SubjectID', '')] = fileTime\n",
    "calibDataFrame.loc[:,('SubjectID', '')] = fileTime\n"
   ]
  },
  {
   "cell_type": "code",
   "execution_count": 8,
   "metadata": {},
   "outputs": [
    {
     "data": {
      "text/html": [
       "<div style=\"max-height:1000px;max-width:1500px;overflow:auto;\">\n",
       "<table border=\"1\" class=\"dataframe\">\n",
       "  <thead>\n",
       "    <tr style=\"text-align: right;\">\n",
       "      <th></th>\n",
       "      <th>ballCaughtFr</th>\n",
       "      <th>ballCaughtQ</th>\n",
       "      <th>blankDur</th>\n",
       "      <th>postBlankDur</th>\n",
       "      <th>preBlankDur</th>\n",
       "      <th>firstFrame</th>\n",
       "      <th>lastFrame</th>\n",
       "      <th>trialStartIdx</th>\n",
       "      <th>ballOffIdx</th>\n",
       "      <th>ballOnIdx</th>\n",
       "      <th>ballCrossingIndex</th>\n",
       "    </tr>\n",
       "    <tr>\n",
       "      <th>trialNum</th>\n",
       "      <th></th>\n",
       "      <th></th>\n",
       "      <th></th>\n",
       "      <th></th>\n",
       "      <th></th>\n",
       "      <th></th>\n",
       "      <th></th>\n",
       "      <th></th>\n",
       "      <th></th>\n",
       "      <th></th>\n",
       "      <th></th>\n",
       "    </tr>\n",
       "  </thead>\n",
       "  <tbody>\n",
       "    <tr>\n",
       "      <th>0</th>\n",
       "      <td>  63</td>\n",
       "      <td> False</td>\n",
       "      <td> 0.5</td>\n",
       "      <td> 0.1</td>\n",
       "      <td> 0.3</td>\n",
       "      <td>   0</td>\n",
       "      <td> 164</td>\n",
       "      <td>   0</td>\n",
       "      <td>  23</td>\n",
       "      <td>  61</td>\n",
       "      <td>  63</td>\n",
       "    </tr>\n",
       "    <tr>\n",
       "      <th>1</th>\n",
       "      <td> 267</td>\n",
       "      <td> False</td>\n",
       "      <td> 0.5</td>\n",
       "      <td> 0.3</td>\n",
       "      <td> 0.6</td>\n",
       "      <td> 165</td>\n",
       "      <td> 329</td>\n",
       "      <td> 165</td>\n",
       "      <td> 246</td>\n",
       "      <td> 264</td>\n",
       "      <td> 267</td>\n",
       "    </tr>\n",
       "    <tr>\n",
       "      <th>2</th>\n",
       "      <td> 431</td>\n",
       "      <td> False</td>\n",
       "      <td> 0.5</td>\n",
       "      <td> 0.3</td>\n",
       "      <td> 0.6</td>\n",
       "      <td> 330</td>\n",
       "      <td> 494</td>\n",
       "      <td> 330</td>\n",
       "      <td> 377</td>\n",
       "      <td> 406</td>\n",
       "      <td> 431</td>\n",
       "    </tr>\n",
       "    <tr>\n",
       "      <th>3</th>\n",
       "      <td> 559</td>\n",
       "      <td> False</td>\n",
       "      <td> 0.5</td>\n",
       "      <td> 0.1</td>\n",
       "      <td> 0.3</td>\n",
       "      <td> 495</td>\n",
       "      <td> 659</td>\n",
       "      <td> 495</td>\n",
       "      <td> 528</td>\n",
       "      <td> 544</td>\n",
       "      <td> 559</td>\n",
       "    </tr>\n",
       "    <tr>\n",
       "      <th>4</th>\n",
       "      <td> 762</td>\n",
       "      <td> False</td>\n",
       "      <td> 0.5</td>\n",
       "      <td> 0.3</td>\n",
       "      <td> 0.6</td>\n",
       "      <td> 660</td>\n",
       "      <td> 824</td>\n",
       "      <td> 660</td>\n",
       "      <td> 696</td>\n",
       "      <td> 736</td>\n",
       "      <td> 762</td>\n",
       "    </tr>\n",
       "  </tbody>\n",
       "</table>\n",
       "<p>5 rows × 11 columns</p>\n",
       "</div>"
      ],
      "text/plain": [
       "          ballCaughtFr ballCaughtQ  blankDur  postBlankDur  preBlankDur  \\\n",
       "trialNum                                                                  \n",
       "0                   63       False       0.5           0.1          0.3   \n",
       "1                  267       False       0.5           0.3          0.6   \n",
       "2                  431       False       0.5           0.3          0.6   \n",
       "3                  559       False       0.5           0.1          0.3   \n",
       "4                  762       False       0.5           0.3          0.6   \n",
       "\n",
       "          firstFrame  lastFrame  trialStartIdx  ballOffIdx  ballOnIdx  \\\n",
       "trialNum                                                                \n",
       "0                  0        164              0          23         61   \n",
       "1                165        329            165         246        264   \n",
       "2                330        494            330         377        406   \n",
       "3                495        659            495         528        544   \n",
       "4                660        824            660         696        736   \n",
       "\n",
       "          ballCrossingIndex  \n",
       "trialNum                     \n",
       "0                        63  \n",
       "1                       267  \n",
       "2                       431  \n",
       "3                       559  \n",
       "4                       762  \n",
       "\n",
       "[5 rows x 11 columns]"
      ]
     },
     "execution_count": 8,
     "metadata": {},
     "output_type": "execute_result"
    }
   ],
   "source": [
    "#list(processedDataFrame.columns)\n",
    "trialInfoDataFrame.head(5)"
   ]
  },
  {
   "cell_type": "code",
   "execution_count": null,
   "metadata": {
    "collapsed": true
   },
   "outputs": [],
   "source": [
    "\n",
    "sessionDict['raw'] = rawDataFrame\n",
    "sessionDict['processed'] = processedDataFrame\n",
    "sessionDict['calibration'] = calibDataFrame\n",
    "sessionDict['trialInfo'] = trialInfoDataFrame\n",
    "pd.to_pickle(sessionDict, filePath + fileName + '.pickle')\n",
    "print ('...Done! Done!\\n')\n"
   ]
  },
  {
   "cell_type": "markdown",
   "metadata": {},
   "source": [
    "### Here I'm Filtering the raw CycOnScreen data using\n",
    "#### - \"Windowed Median\" and Windowed Average Filters are used\n",
    "#### - It seems that windowed median with window size = 3 is necessary for removing outliers due to bad tracking frames\n",
    "#### - So the Averaging Filter is applied on median filtered data "
   ]
  },
  {
   "cell_type": "code",
   "execution_count": null,
   "metadata": {
    "collapsed": true
   },
   "outputs": [],
   "source": [
    "'''\n",
    "# Creating an Empty Data Frame to store the filtered Data and attach it to the processed Data Frame\n",
    "cyc_X = rawDataFrame['cycEyeOnScreen']['X'].values\n",
    "cyc_Y = rawDataFrame['cycEyeOnScreen']['Y'].values\n",
    "\n",
    "medianCyc_X = pd.rolling_median(cyc_X, 3, min_periods = 0)\n",
    "medianCyc_Y = pd.rolling_median(cyc_Y, 3, min_periods = 0)\n",
    "\n",
    "processedDataFrame.loc[:,('medFilt3_cycEyeOnScreen', 'X')] = pd.rolling_median(cyc_X, 3, min_periods = 0)\n",
    "processedDataFrame.loc[:,('medFilt3_cycEyeOnScreen', 'Y')] = pd.rolling_median(cyc_Y, 3, min_periods = 0)\n",
    "processedDataFrame.loc[:,('medFilt5_cycEyeOnScreen', 'X')] = pd.rolling_median(cyc_X, 5, min_periods = 0)\n",
    "processedDataFrame.loc[:,('medFilt5_cycEyeOnScreen', 'Y')] = pd.rolling_median(cyc_Y, 5, min_periods = 0)\n",
    "processedDataFrame.loc[:,('medFilt7_cycEyeOnScreen', 'X')] = pd.rolling_median(cyc_X, 7, min_periods = 0)\n",
    "processedDataFrame.loc[:,('medFilt7_cycEyeOnScreen', 'Y')] = pd.rolling_median(cyc_Y, 7, min_periods = 0)\n",
    "\n",
    "processedDataFrame.loc[:,('avgFilt3_cycEyeOnScreen', 'X')] = pd.rolling_mean(medianCyc_X, 3, min_periods = 0)\n",
    "processedDataFrame.loc[:,('avgFilt3_cycEyeOnScreen', 'Y')] = pd.rolling_mean(medianCyc_Y, 3, min_periods = 0)\n",
    "processedDataFrame.loc[:,('avgFilt5_cycEyeOnScreen', 'X')] = pd.rolling_mean(medianCyc_X, 5, min_periods = 0)\n",
    "processedDataFrame.loc[:,('avgFilt5_cycEyeOnScreen', 'Y')] = pd.rolling_mean(medianCyc_Y, 5, min_periods = 0)\n",
    "\n",
    "#pF.plotFilteredGazeData(rawDataFrame, processedDataFrame)\n",
    "list(processedDataFrame.columns)\n",
    "'''"
   ]
  },
  {
   "cell_type": "code",
   "execution_count": null,
   "metadata": {
    "collapsed": true,
    "scrolled": true
   },
   "outputs": [],
   "source": [
    "list(rawDataFrame.columns)\n",
    "#processedDataFrame\n",
    "#print(calibDataFrame.trialNumber.unique())\n",
    "#gbCalibSession = calibDataFrame.groupby(['trialNumber'])\n",
    "#a = np.append(gbCalibSession.get_group(1103).index, gbCalibSession.get_group(1108).index)\n",
    "#print(calibDataFrame.trialNumber.unique())\n",
    "#b = np.append(gbCalibSession.get_group(1110).index, gbCalibSession.get_group(1116).index)\n",
    "#c = np.append(a,b)\n",
    "#d = np.append(gbCalibSession.get_group(1212).index, gbCalibSession.get_group(1217).index)\n",
    "#print(np.append(c,d))"
   ]
  },
  {
   "cell_type": "code",
   "execution_count": null,
   "metadata": {
    "collapsed": true
   },
   "outputs": [],
   "source": [
    "# Creating an Empty Data Frame to store the Gaze Velocity and attach it to the processed Data Frame\n",
    "\n",
    "#processedDataFrame.loc[:, ('cycGazeVelocity', '')] = pF.calculateCycGazeVelocity(processedDataFrame,\n",
    "                                                                                    trialID = None, plottingFlag = False)\n",
    "#print len(processedDataFrame.cycGazeVelocity.values)\n",
    "#processedDataFrame"
   ]
  },
  {
   "cell_type": "markdown",
   "metadata": {},
   "source": [
    "## Group by trialNumber / inCalibrationQ "
   ]
  },
  {
   "cell_type": "code",
   "execution_count": null,
   "metadata": {
    "collapsed": true
   },
   "outputs": [],
   "source": [
    "gbCalibrationQ = calibDataFrame.groupby(['inCalibrationQ'])\n",
    "gbTrial = rawDataFrame.groupby(['trialNumber'])\n",
    "processedGBTrial = processedDataFrame.groupby(['trialNumber'])"
   ]
  },
  {
   "cell_type": "code",
   "execution_count": null,
   "metadata": {
    "collapsed": true
   },
   "outputs": [],
   "source": [
    "#calibDataFrame"
   ]
  },
  {
   "cell_type": "markdown",
   "metadata": {},
   "source": [
    "## The True POR points are calculated here\n",
    "#### - True POR is the Position of the Calibration Spheres on the HMD Screen in SCS\n",
    "#### - Remember that During Calibration procedure, Calibration Spheres are positioned in HCS (No need to take into account head Rotation)\n",
    "#### - Ray Tracing method is used to find the intersection of  eye-sphere line and the HMD screen (plane)\n",
    "#### - This procedure could be improved because for all 100 frames the calibration sphere is always the same!"
   ]
  },
  {
   "cell_type": "code",
   "execution_count": null,
   "metadata": {
    "collapsed": true
   },
   "outputs": [],
   "source": [
    "# Attaching the calculated Values to the CalibDataFrame\n",
    "truePOR = pF.find2DTruePOR(calibDataFrame)\n",
    "calibDataFrame.loc[:, ('cycTruePOR', 'X')] = truePOR[:,0]\n",
    "calibDataFrame.loc[:, ('cycTruePOR', 'Y')] = truePOR[:,1]\n",
    "calibDataFrame.loc[:, ('cycTruePOR', 'Z')] = truePOR[:,2]\n",
    "print 'Size of Calibration Data Frame: ', len(calibDataFrame)\n",
    "#calibDataFrame"
   ]
  },
  {
   "cell_type": "code",
   "execution_count": null,
   "metadata": {
    "collapsed": true
   },
   "outputs": [],
   "source": [
    "#calibDataFrame"
   ]
  },
  {
   "cell_type": "markdown",
   "metadata": {},
   "source": [
    "## Calculating the Calibration Matrix (Homography) and plotting the results"
   ]
  },
  {
   "cell_type": "code",
   "execution_count": null,
   "metadata": {
    "collapsed": true,
    "scrolled": false
   },
   "outputs": [],
   "source": [
    "H = pF.calculateLinearHomography(calibDataFrame, plottingFlag = True)\n",
    "print 'H = ', H\n",
    "tempMatrix = np.zeros((len(processedDataFrame),3,3))\n",
    "tempMatrix[:,0:3,0:3] = H\n",
    "tempMatrix = tempMatrix.reshape((len(processedDataFrame),9))\n",
    "#print 'H =',H\n",
    "#print 'M =', tempMatrix\n",
    "\n",
    "processedDataFrame.loc[:, ('linearHomography','0')] = tempMatrix[:,0]\n",
    "processedDataFrame.loc[:, ('linearHomography','1')] = tempMatrix[:,1]\n",
    "processedDataFrame.loc[:, ('linearHomography','2')] = tempMatrix[:,2]\n",
    "processedDataFrame.loc[:, ('linearHomography','3')] = tempMatrix[:,3]\n",
    "processedDataFrame.loc[:, ('linearHomography','4')] = tempMatrix[:,4]\n",
    "processedDataFrame.loc[:, ('linearHomography','5')] = tempMatrix[:,5]\n",
    "processedDataFrame.loc[:, ('linearHomography','6')] = tempMatrix[:,6]\n",
    "processedDataFrame.loc[:, ('linearHomography','7')] = tempMatrix[:,7]\n",
    "processedDataFrame.loc[:, ('linearHomography','8')] = tempMatrix[:,8]"
   ]
  },
  {
   "cell_type": "markdown",
   "metadata": {},
   "source": [
    "#### How to access one Homography"
   ]
  },
  {
   "cell_type": "code",
   "execution_count": null,
   "metadata": {
    "collapsed": true
   },
   "outputs": [],
   "source": [
    "#processedDataFrame['linearHomography'].values[0].reshape((3,3))"
   ]
  },
  {
   "cell_type": "markdown",
   "metadata": {},
   "source": [
    "# Calculating the Ball and Gaze Position on the HMD Screen"
   ]
  },
  {
   "cell_type": "code",
   "execution_count": null,
   "metadata": {
    "collapsed": true,
    "scrolled": false
   },
   "outputs": [],
   "source": [
    "trialID = None\n",
    "#trialID = 53 # Failed Trial\n",
    "\n",
    "[gazePoint_fr_XYZ, rotatedGazePoint_fr_XYZ,\n",
    " ballOnScreen_fr_XYZ, rotatedBallOnScreen_fr_XYZ] = pF.calculateGazeBallOnScreen(rawDataFrame, processedDataFrame, trialID)"
   ]
  },
  {
   "cell_type": "code",
   "execution_count": null,
   "metadata": {
    "collapsed": true
   },
   "outputs": [],
   "source": [
    "\n",
    "processedDataFrame.loc[:, ('gazePoint', 'X')] = gazePoint_fr_XYZ[:,0]\n",
    "processedDataFrame.loc[:, ('gazePoint', 'Y')] = gazePoint_fr_XYZ[:,1]\n",
    "processedDataFrame.loc[:, ('gazePoint', 'Z')] = gazePoint_fr_XYZ[:,2]\n",
    "\n",
    "processedDataFrame.loc[:, ('rotatedGazePoint', 'X')] = rotatedGazePoint_fr_XYZ[:,0]\n",
    "processedDataFrame.loc[:, ('rotatedGazePoint', 'Y')] = rotatedGazePoint_fr_XYZ[:,1]\n",
    "processedDataFrame.loc[:, ('rotatedGazePoint', 'Z')] = rotatedGazePoint_fr_XYZ[:,2]\n",
    "\n",
    "processedDataFrame.loc[:, ('ballOnScreen', 'X')] = ballOnScreen_fr_XYZ[:,0]\n",
    "processedDataFrame.loc[:, ('ballOnScreen', 'Y')] = ballOnScreen_fr_XYZ[:,1]\n",
    "processedDataFrame.loc[:, ('ballOnScreen', 'Z')] = ballOnScreen_fr_XYZ[:,2]\n",
    "\n",
    "processedDataFrame.loc[:, ('rotatedBallOnScreen', 'X')] = rotatedBallOnScreen_fr_XYZ[:,0]\n",
    "processedDataFrame.loc[:, ('rotatedBallOnScreen', 'Y')] = rotatedBallOnScreen_fr_XYZ[:,1]\n",
    "processedDataFrame.loc[:, ('rotatedBallOnScreen', 'Z')] = rotatedBallOnScreen_fr_XYZ[:,2]\n",
    "#processedDataFrame\n"
   ]
  },
  {
   "cell_type": "code",
   "execution_count": null,
   "metadata": {
    "collapsed": true
   },
   "outputs": [],
   "source": [
    "gazeX = processedDataFrame.gazePoint.X.values\n",
    "gazeY = processedDataFrame.gazePoint.Y.values\n",
    "gazeZ = processedDataFrame.gazePoint.Z.values\n",
    "\n",
    "ballX = processedDataFrame.ballOnScreen.X.values\n",
    "ballY = processedDataFrame.ballOnScreen.Y.values\n",
    "ballZ = processedDataFrame.ballOnScreen.Z.values\n",
    "\n",
    "gazeVector = np.array([gazeX, gazeY, gazeZ], dtype = float).T\n",
    "ballVector = np.array([ballX, ballY, ballZ], dtype = float).T\n",
    "#print gazeVector.shape\n",
    "angle = []\n",
    "for gV, bV in zip(gazeVector, ballVector):\n",
    "    angle.append(pF.vectorAngle(gV,bV))\n",
    "#len(angle)\n",
    "processedDataFrame.loc[:,('gazeError_HCS', '')] = angle"
   ]
  },
  {
   "cell_type": "code",
   "execution_count": null,
   "metadata": {
    "collapsed": true
   },
   "outputs": [],
   "source": [
    "\n",
    "angleList = []\n",
    "for i in range(len(processedDataFrame)):\n",
    "    temp = pF.vectorAngle(processedDataFrame.rotatedGazePoint.values[i], processedDataFrame.rotatedBallOnScreen.values[i])\n",
    "    angleList.append(temp)\n",
    "\n",
    "eyeToScreenDistance = 0.0725\n",
    "gazeError = np.array(processedDataFrame.rotatedGazePoint.values - processedDataFrame.rotatedBallOnScreen.values)\n",
    "x = gazeError[:,0]\n",
    "y = gazeError[:,1]\n",
    "z = gazeError[:,2]\n",
    "\n",
    "x = np.array(x,dtype = float)\n",
    "y = np.array(y,dtype = float)\n",
    "z = np.array(z,dtype = float)\n",
    "\n",
    "processedDataFrame.loc[:,('gazeError_WCS','X')] = (180/np.pi)*np.arctan(x/eyeToScreenDistance)\n",
    "processedDataFrame.loc[:,('gazeError_WCS','Y')] = (180/np.pi)*np.arctan(y/eyeToScreenDistance)\n",
    "processedDataFrame.loc[:,('gazeError_WCS','Z')] = (180/np.pi)*np.arctan(z/eyeToScreenDistance)\n",
    "processedDataFrame.loc[:,('gazeAngularError', '')] = np.array(angleList, dtype = float)\n"
   ]
  },
  {
   "cell_type": "code",
   "execution_count": null,
   "metadata": {
    "collapsed": true
   },
   "outputs": [],
   "source": [
    "#processedDataFrame"
   ]
  },
  {
   "cell_type": "code",
   "execution_count": null,
   "metadata": {
    "collapsed": true
   },
   "outputs": [],
   "source": [
    "#rawDataFrame = sessionDict['raw']\n",
    "sessionDict['processed'] = processedDataFrame\n",
    "sessionDict['calibration'] = calibDataFrame\n",
    "pd.to_pickle(sessionDict, filePath + fileName + '.pickle')"
   ]
  },
  {
   "cell_type": "code",
   "execution_count": null,
   "metadata": {
    "collapsed": true
   },
   "outputs": [],
   "source": [
    "processedDataFrame.columns"
   ]
  },
  {
   "cell_type": "code",
   "execution_count": null,
   "metadata": {
    "collapsed": true
   },
   "outputs": [],
   "source": [
    "rawDataFrame"
   ]
  },
  {
   "cell_type": "code",
   "execution_count": null,
   "metadata": {
    "collapsed": true
   },
   "outputs": [],
   "source": []
  }
 ],
 "metadata": {
  "anaconda-cloud": {},
  "kernelspec": {
   "display_name": "Python 2",
   "language": "python",
   "name": "python2"
  },
  "language_info": {
   "codemirror_mode": {
    "name": "ipython",
    "version": 2
   },
   "file_extension": ".py",
   "mimetype": "text/x-python",
   "name": "python",
   "nbconvert_exporter": "python",
   "pygments_lexer": "ipython2",
   "version": "2.7.13"
  }
 },
 "nbformat": 4,
 "nbformat_minor": 1
}
